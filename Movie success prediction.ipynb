{
 "cells": [
  {
   "cell_type": "code",
   "execution_count": 2,
   "id": "85366e59-42c8-4f76-9119-ce793b962fbd",
   "metadata": {},
   "outputs": [],
   "source": [
    "import numpy as np\n",
    "import pandas as pd\n",
    "import matplotlib.pyplot as plt\n",
    "from sklearn.model_selection import train_test_split\n",
    "from sklearn.preprocessing import StandardScaler, LabelEncoder\n",
    "from sklearn.tree import DecisionTreeClassifier\n",
    "from sklearn.ensemble import RandomForestClassifier\n",
    "from sklearn.metrics import confusion_matrix, accuracy_score, classification_report"
   ]
  },
  {
   "cell_type": "code",
   "execution_count": 4,
   "id": "ac069571-80e5-47a7-9614-9bb4af715849",
   "metadata": {},
   "outputs": [
    {
     "name": "stdout",
     "output_type": "stream",
     "text": [
      "         Movie_Title      Budget    Genre Release_Date     Success\n",
      "0    The Action Hero  3461925401   Action    15-7-2022  Blckbuster\n",
      "1     Comedy Central  2569143953   Comedy   23-09-2020         Hit\n",
      "2  The Dramatic Life  4142810700    Drama   17-09-1998        Flop\n",
      "3  Sci-Fi Adventures  3789246761   Sci-fi   26-05-2021     Average\n",
      "4    Romantic Nights  3506179618  Romance   06-12-2023  Blckbuster\n"
     ]
    }
   ],
   "source": [
    "df= pd.read_csv(\"Movie dataset.csv\")\n",
    "print(df.head())"
   ]
  },
  {
   "cell_type": "code",
   "execution_count": 13,
   "id": "896c81aa-6927-4a4c-9390-c7d530fc8744",
   "metadata": {},
   "outputs": [],
   "source": [
    "label_encoder = LabelEncoder()\n",
    "df[\"Genre\"] = label_encoder.fit_transform(df[\"Genre\"])\n",
    "df[\"Release_Date\"] = pd.to_datetime(df[\"Release_Date\"]).dt.year\n",
    "\n",
    "X=df[[\"Budget\", \"Genre\", \"Release_Date\"]]\n",
    "y=df[\"Success\"]"
   ]
  },
  {
   "cell_type": "code",
   "execution_count": 14,
   "id": "f77b943f-56cb-444e-843e-ad59667f40a6",
   "metadata": {},
   "outputs": [],
   "source": [
    "X_train, X_test, y_train, y_test = train_test_split(X,y,test_size= 0.2, random_state=42)\n"
   ]
  },
  {
   "cell_type": "code",
   "execution_count": 19,
   "id": "f182ba69-7b0c-4b01-a00f-ffdf465ec509",
   "metadata": {},
   "outputs": [
    {
     "name": "stdout",
     "output_type": "stream",
     "text": [
      "Decision Tree Accuracy: 0.5\n",
      "Random Forest Accuracy: 0.5\n",
      "Random Forest confusion matrix: [[0 0]\n",
      " [1 1]]\n",
      "Random forest classification report:               precision    recall  f1-score   support\n",
      "\n",
      "  Blckbuster       0.00      0.00      0.00         0\n",
      "         Hit       1.00      0.50      0.67         2\n",
      "\n",
      "    accuracy                           0.50         2\n",
      "   macro avg       0.50      0.25      0.33         2\n",
      "weighted avg       1.00      0.50      0.67         2\n",
      "\n"
     ]
    },
    {
     "name": "stderr",
     "output_type": "stream",
     "text": [
      "C:\\Users\\hrmoh\\anaconda3\\Lib\\site-packages\\sklearn\\metrics\\_classification.py:1531: UndefinedMetricWarning: Recall is ill-defined and being set to 0.0 in labels with no true samples. Use `zero_division` parameter to control this behavior.\n",
      "  _warn_prf(average, modifier, f\"{metric.capitalize()} is\", len(result))\n",
      "C:\\Users\\hrmoh\\anaconda3\\Lib\\site-packages\\sklearn\\metrics\\_classification.py:1531: UndefinedMetricWarning: Recall is ill-defined and being set to 0.0 in labels with no true samples. Use `zero_division` parameter to control this behavior.\n",
      "  _warn_prf(average, modifier, f\"{metric.capitalize()} is\", len(result))\n",
      "C:\\Users\\hrmoh\\anaconda3\\Lib\\site-packages\\sklearn\\metrics\\_classification.py:1531: UndefinedMetricWarning: Recall is ill-defined and being set to 0.0 in labels with no true samples. Use `zero_division` parameter to control this behavior.\n",
      "  _warn_prf(average, modifier, f\"{metric.capitalize()} is\", len(result))\n"
     ]
    }
   ],
   "source": [
    "dtc_model=DecisionTreeClassifier()\n",
    "dtc_model.fit(X_train, y_train)\n",
    "y_pred_dtc=dtc_model.predict(X_test)\n",
    "\n",
    "\n",
    "rfc_model=RandomForestClassifier()\n",
    "rfc_model.fit(X_train, y_train)\n",
    "y_pred_rfc=rfc_model.predict(X_test)\n",
    "\n",
    "print(f\"Decision Tree Accuracy: {accuracy_score(y_test, y_pred_dtc)}\")\n",
    "print(f\"Random Forest Accuracy: {accuracy_score(y_test, y_pred_rfc)}\")\n",
    "\n",
    "conf_matrix=confusion_matrix(y_test, y_pred_rfc)\n",
    "print(f\"Random Forest confusion matrix: {conf_matrix}\")\n",
    "class_report_rfc=classification_report(y_test, y_pred_rfc)\n",
    "print(f\"Random forest classification report: {class_report_rfc}\")\n"
   ]
  },
  {
   "cell_type": "code",
   "execution_count": null,
   "id": "f15c765a-1e79-4d9f-92a5-f319a8ae3de7",
   "metadata": {},
   "outputs": [],
   "source": []
  }
 ],
 "metadata": {
  "kernelspec": {
   "display_name": "Python 3 (ipykernel)",
   "language": "python",
   "name": "python3"
  },
  "language_info": {
   "codemirror_mode": {
    "name": "ipython",
    "version": 3
   },
   "file_extension": ".py",
   "mimetype": "text/x-python",
   "name": "python",
   "nbconvert_exporter": "python",
   "pygments_lexer": "ipython3",
   "version": "3.12.7"
  }
 },
 "nbformat": 4,
 "nbformat_minor": 5
}
